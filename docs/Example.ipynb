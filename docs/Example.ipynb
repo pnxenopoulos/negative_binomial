{
 "cells": [
  {
   "cell_type": "markdown",
   "metadata": {},
   "source": [
    "# Example of Fitting a Negative Binomial\n",
    "##### Peter Xenopoulos\n",
    "##### June 14, 2018\n",
    "\n",
    "This code contains an example of how to use the `negative_binomial` module, and why the negative binomial is fit the way it is."
   ]
  },
  {
   "cell_type": "code",
   "execution_count": 48,
   "metadata": {
    "collapsed": true
   },
   "outputs": [],
   "source": [
    "%matplotlib inline\n",
    "\n",
    "import matplotlib.pyplot as plt\n",
    "import numpy as np\n",
    "from negative_binomial.neg_bin_fit import *"
   ]
  },
  {
   "cell_type": "code",
   "execution_count": 49,
   "metadata": {
    "collapsed": true
   },
   "outputs": [],
   "source": [
    "# Start by setting parameters to simulate random neg bin data\n",
    "np.random.seed(2018)\n",
    "\n",
    "r = 0.1\n",
    "p = 0.1\n",
    "size = 10000\n",
    "\n",
    "random_nb_data = np.random.negative_binomial(r, p, size)"
   ]
  },
  {
   "cell_type": "code",
   "execution_count": 50,
   "metadata": {},
   "outputs": [
    {
     "name": "stdout",
     "output_type": "stream",
     "text": [
      "The mean of the data is 0.8726\n",
      "The variance of the data is 9.10796924\n",
      "The maximum of the data is 87\n",
      "The minimum of the data is 0\n"
     ]
    },
    {
     "data": {
      "text/plain": [
       "(array([9.404e+03, 3.240e+02, 1.540e+02, 4.900e+01, 3.200e+01, 2.300e+01,\n",
       "        4.000e+00, 2.000e+00, 4.000e+00, 0.000e+00, 0.000e+00, 2.000e+00,\n",
       "        1.000e+00, 0.000e+00, 0.000e+00, 0.000e+00, 0.000e+00, 0.000e+00,\n",
       "        0.000e+00, 1.000e+00]),\n",
       " array([ 0.  ,  4.35,  8.7 , 13.05, 17.4 , 21.75, 26.1 , 30.45, 34.8 ,\n",
       "        39.15, 43.5 , 47.85, 52.2 , 56.55, 60.9 , 65.25, 69.6 , 73.95,\n",
       "        78.3 , 82.65, 87.  ]),\n",
       " <a list of 20 Patch objects>)"
      ]
     },
     "execution_count": 50,
     "metadata": {},
     "output_type": "execute_result"
    },
    {
     "data": {
      "image/png": "[encoded data removed]",
      "text/plain": [
       "<matplotlib.figure.Figure at 0x113c85d68>"
      ]
     },
     "metadata": {},
     "output_type": "display_data"
    }
   ],
   "source": [
    "# Print summary stats and plot the data\n",
    "print(\"The mean of the data is\", np.mean(random_nb_data))\n",
    "print(\"The variance of the data is\", np.var(random_nb_data))\n",
    "print(\"The maximum of the data is\", np.max(random_nb_data))\n",
    "print(\"The minimum of the data is\", np.min(random_nb_data))\n",
    "\n",
    "plt.hist(random_nb_data, 20)"
   ]
  },
  {
   "cell_type": "code",
   "execution_count": 42,
   "metadata": {},
   "outputs": [
    {
     "data": {
      "text/plain": [
       "0.8"
      ]
     },
     "execution_count": 42,
     "metadata": {},
     "output_type": "execute_result"
    }
   ],
   "source": []
  },
  {
   "cell_type": "code",
   "execution_count": 43,
   "metadata": {},
   "outputs": [
    {
     "data": {
      "text/plain": [
       "[<matplotlib.lines.Line2D at 0x113c05a20>]"
      ]
     },
     "execution_count": 43,
     "metadata": {},
     "output_type": "execute_result"
    },
    {
     "data": {
      "image/png": "[encoded data removed]",
      "text/plain": [
       "<matplotlib.figure.Figure at 0x113a58390>"
      ]
     },
     "metadata": {},
     "output_type": "display_data"
    }
   ],
   "source": [
    "r_to_test = np.linspace(0.1, 30)\n",
    "vals = []\n",
    "\n",
    "for r in r_to_test:\n",
    "    vals.append(r_derv(r, random_nb_data))\n",
    "    \n",
    "# We see that the function for r has a local minimum but NOT a global one (expand the graph out)\n",
    "vals = np.asarray(vals)\n",
    "vals = np.log(np.abs(vals))\n",
    "plt.plot(vals)"
   ]
  },
  {
   "cell_type": "code",
   "execution_count": 47,
   "metadata": {},
   "outputs": [
    {
     "name": "stdout",
     "output_type": "stream",
     "text": [
      "Estimated r is 0.097161180784195\n",
      "Estimated p is 0.10019083327879319\n"
     ]
    }
   ],
   "source": [
    "estimated_r, estimated_p = neg_bin_fit(random_nb_data, init = 0.0001)\n",
    "print(\"Estimated r is\",estimated_r)\n",
    "print(\"Estimated p is\",estimated_p)"
   ]
  }
 ],
 "metadata": {
  "kernelspec": {
   "display_name": "Python 3",
   "language": "python",
   "name": "python3"
  },
  "language_info": {
   "codemirror_mode": {
    "name": "ipython",
    "version": 3
   },
   "file_extension": ".py",
   "mimetype": "text/x-python",
   "name": "python",
   "nbconvert_exporter": "python",
   "pygments_lexer": "ipython3",
   "version": "3.6.1"
  }
 },
 "nbformat": 4,
 "nbformat_minor": 2
}
